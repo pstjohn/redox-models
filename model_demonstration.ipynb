{
 "cells": [
  {
   "cell_type": "markdown",
   "id": "c1315df5",
   "metadata": {},
   "source": [
    "# Demonstration of the prediction models\n",
    "Tensorflow models for redox potential and stability score of organic radicals"
   ]
  },
  {
   "cell_type": "code",
   "execution_count": 1,
   "id": "0e1ef0e4-60ff-4d65-8fb7-14e0ab97fff7",
   "metadata": {},
   "outputs": [],
   "source": [
    "from collections import Counter\n",
    "\n",
    "import numpy as np\n",
    "import pandas as pd\n",
    "import tensorflow as tf \n",
    "import nfp  # pip install nfp\n",
    "import rdkit"
   ]
  },
  {
   "cell_type": "markdown",
   "id": "c81b418c",
   "metadata": {},
   "source": [
    "The key libraries used by this notebook are listed above. Versions for `tensorflow` and `nfp` likely affect compatibility and are listed below"
   ]
  },
  {
   "cell_type": "code",
   "execution_count": 2,
   "id": "686048bc-4840-414f-b58b-3cd369b25a2c",
   "metadata": {},
   "outputs": [
    {
     "data": {
      "text/plain": [
       "'0.3.5'"
      ]
     },
     "execution_count": 2,
     "metadata": {},
     "output_type": "execute_result"
    }
   ],
   "source": [
    "nfp.__version__  # github.com/NREL/nfp"
   ]
  },
  {
   "cell_type": "code",
   "execution_count": 3,
   "id": "25dda428-b60e-4edd-995a-81125db120c5",
   "metadata": {},
   "outputs": [
    {
     "data": {
      "text/plain": [
       "'2.6.0'"
      ]
     },
     "execution_count": 3,
     "metadata": {},
     "output_type": "execute_result"
    }
   ],
   "source": [
    "tf.__version__"
   ]
  },
  {
   "cell_type": "markdown",
   "id": "2e8c76d0",
   "metadata": {},
   "source": [
    "Load the preprocessor, which converts `rdkit.Chem.Mol` objects into sets of tensors understandable by the GNN prediction models"
   ]
  },
  {
   "cell_type": "code",
   "execution_count": 4,
   "id": "ab52a873",
   "metadata": {},
   "outputs": [],
   "source": [
    "from models.preprocessor import load_preprocessor\n",
    "preprocessor = load_preprocessor()"
   ]
  },
  {
   "cell_type": "markdown",
   "id": "cdd50b9c",
   "metadata": {},
   "source": [
    "Load the tensorflow models for redox potential and stability"
   ]
  },
  {
   "cell_type": "code",
   "execution_count": 5,
   "id": "d4874373-1a04-406c-a88b-c0e2fc46e5f7",
   "metadata": {},
   "outputs": [],
   "source": [
    "redox_model = tf.keras.models.load_model('models/redox_model', compile=False)\n",
    "stability_model = tf.keras.models.load_model('models/stability_model', compile=False)"
   ]
  },
  {
   "cell_type": "markdown",
   "id": "69d3d7a9",
   "metadata": {},
   "source": [
    "Here we define some convenience functions:\n",
    "\n",
    "The **redox model** returns a length-2 array of reduction and oxidation potentials.\n",
    "\n",
    "The **stability model** returns a list of two arrays:\n",
    "* the first is a vector of predicted fractional spins on each heavy atom (sums to 1)\n",
    "* the second is a vector of predicted buried volumes for each atom (in percent)\n",
    "\n",
    "The ordering of the atom predictions is the same as the ordering of atoms in the input RDKit Mol object."
   ]
  },
  {
   "cell_type": "code",
   "execution_count": 6,
   "id": "7019d11b",
   "metadata": {},
   "outputs": [],
   "source": [
    "def check_radical(mol):\n",
    "    \"\"\"Ensures that the mol has a single formal radical center\"\"\"\n",
    "    radical_count = Counter([atom.GetNumRadicalElectrons() for atom in mol.GetAtoms()])\n",
    "    assert radical_count.keys() == {0, 1}    \n",
    "    assert radical_count[1] == 1\n",
    "\n",
    "\n",
    "def predict_redox(smiles):\n",
    "    \"\"\"Predicts (reduction, oxidation) potentials for a given SMILES string\"\"\"\n",
    "    mol = rdkit.Chem.MolFromSmiles(smiles)\n",
    "    check_radical(mol)\n",
    "    return redox_model([np.expand_dims(val, 0) for val in \n",
    "                        preprocessor(mol).values()]).numpy().flatten()\n",
    "\n",
    "\n",
    "def predict_stability(smiles):\n",
    "    \"\"\"Predicts the combined radical stability score for a given SMILES string\"\"\"\n",
    "    \n",
    "    mol = rdkit.Chem.MolFromSmiles(smiles)\n",
    "    check_radical(mol)\n",
    "    spins, buried_vol = stability_model([np.expand_dims(val, 0) for val in \n",
    "                                         preprocessor(mol).values()])\n",
    "\n",
    "    max_spin_index = spins.numpy().argmax()\n",
    "    max_spin = spins.numpy().flatten()[max_spin_index]\n",
    "    buried_vol_at_max_spin = buried_vol.numpy().flatten()[max_spin_index]\n",
    "    return 50 * (1 - max_spin) + buried_vol_at_max_spin"
   ]
  },
  {
   "cell_type": "markdown",
   "id": "f119c6dc",
   "metadata": {},
   "source": [
    "Here we take an example that has converged reduction and oxidation potentials"
   ]
  },
  {
   "cell_type": "code",
   "execution_count": 7,
   "id": "78f02228",
   "metadata": {},
   "outputs": [
    {
     "data": {
      "text/plain": [
       "smiles             C#C/C(C)=C(/[CH2])C\n",
       "reduction                     0.781466\n",
       "oxidation                    -0.915292\n",
       "stability_score              78.894325\n",
       "Name: 2, dtype: object"
      ]
     },
     "execution_count": 7,
     "metadata": {},
     "output_type": "execute_result"
    }
   ],
   "source": [
    "redox_df = pd.read_csv('data/radical_db_redox_potentials.csv.gz')\n",
    "redox_df.iloc[2]"
   ]
  },
  {
   "cell_type": "code",
   "execution_count": 8,
   "id": "127aa4bc",
   "metadata": {},
   "outputs": [
    {
     "data": {
      "text/plain": [
       "(0.7709613, -0.92244977)"
      ]
     },
     "execution_count": 8,
     "metadata": {},
     "output_type": "execute_result"
    }
   ],
   "source": [
    "reduction, oxidation = predict_redox('C#C/C(C)=C(/[CH2])C')\n",
    "reduction, oxidation"
   ]
  },
  {
   "cell_type": "code",
   "execution_count": 9,
   "id": "26281deb",
   "metadata": {},
   "outputs": [
    {
     "data": {
      "text/plain": [
       "78.4802514910698"
      ]
     },
     "execution_count": 9,
     "metadata": {},
     "output_type": "execute_result"
    }
   ],
   "source": [
    "predict_stability('C#C/C(C)=C(/[CH2])C')"
   ]
  }
 ],
 "metadata": {
  "kernelspec": {
   "display_name": "Python 3",
   "language": "python",
   "name": "python3"
  },
  "language_info": {
   "codemirror_mode": {
    "name": "ipython",
    "version": 3
   },
   "file_extension": ".py",
   "mimetype": "text/x-python",
   "name": "python",
   "nbconvert_exporter": "python",
   "pygments_lexer": "ipython3",
   "version": "3.8.10"
  }
 },
 "nbformat": 4,
 "nbformat_minor": 5
}
